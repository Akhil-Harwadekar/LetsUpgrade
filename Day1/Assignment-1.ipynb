{
 "cells": [
  {
   "cell_type": "markdown",
   "metadata": {},
   "source": [
    "# ASSIGNMENT 1\n",
    "\n",
    "### 06/11/2020"
   ]
  },
  {
   "cell_type": "markdown",
   "metadata": {},
   "source": [
    "### Question 1"
   ]
  },
  {
   "cell_type": "markdown",
   "metadata": {},
   "source": [
    "B]  RAINBOW"
   ]
  },
  {
   "cell_type": "markdown",
   "metadata": {},
   "source": [
    "### Question 2"
   ]
  },
  {
   "cell_type": "code",
   "execution_count": 1,
   "metadata": {},
   "outputs": [
    {
     "name": "stdout",
     "output_type": "stream",
     "text": [
      "\"LETS UPGRADE\"\n"
     ]
    }
   ],
   "source": [
    "def printName(name):\n",
    "    x = name.upper()\n",
    "    print(f'\"{x}\"')\n",
    "    \n",
    "printName('lets upgrade')"
   ]
  },
  {
   "cell_type": "markdown",
   "metadata": {},
   "source": [
    "### Question 3"
   ]
  },
  {
   "cell_type": "code",
   "execution_count": 2,
   "metadata": {},
   "outputs": [
    {
     "name": "stdout",
     "output_type": "stream",
     "text": [
      "10\n",
      "20\n",
      "Profit\n"
     ]
    }
   ],
   "source": [
    "costPrice = int(input())   #Enter the Cost Price \n",
    "sellingPrice = int(input())   #Enter the Selling Price\n",
    "\n",
    "l='Loss'\n",
    "p='Profit'\n",
    "n='Neither'\n",
    "\n",
    "if (costPrice > sellingPrice):\n",
    "    print(l)\n",
    "elif (costPrice < sellingPrice):\n",
    "    print(p)\n",
    "else:\n",
    "    print(n)"
   ]
  },
  {
   "cell_type": "markdown",
   "metadata": {},
   "source": [
    "### Question 4"
   ]
  },
  {
   "cell_type": "code",
   "execution_count": 3,
   "metadata": {},
   "outputs": [
    {
     "name": "stdout",
     "output_type": "stream",
     "text": [
      "9\n",
      "720\n"
     ]
    }
   ],
   "source": [
    "rupees = 80\n",
    "euro = int(input())  #Enter the amount in Euro \n",
    "\n",
    "print(rupees*euro)  #Output in Rupees"
   ]
  }
 ],
 "metadata": {
  "kernelspec": {
   "display_name": "Python 3",
   "language": "python",
   "name": "python3"
  },
  "language_info": {
   "codemirror_mode": {
    "name": "ipython",
    "version": 3
   },
   "file_extension": ".py",
   "mimetype": "text/x-python",
   "name": "python",
   "nbconvert_exporter": "python",
   "pygments_lexer": "ipython3",
   "version": "3.8.3"
  }
 },
 "nbformat": 4,
 "nbformat_minor": 4
}
