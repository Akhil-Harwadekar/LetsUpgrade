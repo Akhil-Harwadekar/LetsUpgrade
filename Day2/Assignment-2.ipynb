{
 "cells": [
  {
   "cell_type": "markdown",
   "metadata": {},
   "source": [
    "# ASSIGNMENT 2\n",
    "\n",
    "### 09/11/2020"
   ]
  },
  {
   "cell_type": "markdown",
   "metadata": {},
   "source": [
    "### Question 1"
   ]
  },
  {
   "cell_type": "code",
   "execution_count": null,
   "metadata": {},
   "outputs": [],
   "source": [
    "evenList = []\n",
    "for i in range(10):\n",
    "    number = int(input())\n",
    "    if number%2 == 0:\n",
    "        evenList.append(number)\n",
    "        \n",
    "print(evenList)\n",
    "        "
   ]
  },
  {
   "cell_type": "markdown",
   "metadata": {},
   "source": [
    "### Question 3"
   ]
  },
  {
   "cell_type": "code",
   "execution_count": null,
   "metadata": {},
   "outputs": [],
   "source": [
    "def dictSquare(number):\n",
    "    dic = {}\n",
    "    for i in range(number):\n",
    "        dic[i+1] = pow(i+1,2)\n",
    "    \n",
    "    print(dic)\n",
    "\n",
    "dictSquare(int(input()))"
   ]
  },
  {
   "cell_type": "markdown",
   "metadata": {},
   "source": [
    "### Question 4"
   ]
  },
  {
   "cell_type": "code",
   "execution_count": null,
   "metadata": {},
   "outputs": [],
   "source": [
    "origin = {\"x\": 0, \"y\": 0}\n",
    "number=int(input())\n",
    "count=0\n",
    "while (count != number):\n",
    "\n",
    "    n = input() #Direction steps\n",
    "    count += 1\n",
    "\n",
    "    direction,steps = n.split()\n",
    "    if direction == \"UP\":\n",
    "        origin[\"y\"] += int(steps)\n",
    "    elif direction == \"DOWN\":\n",
    "        origin[\"y\"] -= int(steps)\n",
    "    elif direction == \"LEFT\":\n",
    "        origin[\"x\"] -= int(steps)\n",
    "    elif direction == \"RIGHT\":\n",
    "        origin[\"x\"] += int(steps)\n",
    "        \n",
    "print(origin['x'])\n",
    "print(origin['y'])\n",
    "print(int(round((origin[\"x\"]**2 + origin[\"y\"]**2)**0.5)))"
   ]
  }
 ],
 "metadata": {
  "kernelspec": {
   "display_name": "Python 3",
   "language": "python",
   "name": "python3"
  }
 },
 "nbformat": 4,
 "nbformat_minor": 4
}
