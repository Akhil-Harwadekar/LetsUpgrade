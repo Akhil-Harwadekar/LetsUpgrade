{
 "cells": [
  {
   "cell_type": "markdown",
   "metadata": {},
   "source": [
    "# Assignment 3"
   ]
  },
  {
   "cell_type": "markdown",
   "metadata": {},
   "source": [
    "### 11/11/2020"
   ]
  },
  {
   "cell_type": "markdown",
   "metadata": {},
   "source": [
    "### Question 1"
   ]
  },
  {
   "cell_type": "code",
   "execution_count": 1,
   "metadata": {},
   "outputs": [
    {
     "name": "stdout",
     "output_type": "stream",
     "text": [
      "[ 2  5  8 11 14 17 20 23 26 29 32 35 38 41 44 47 50]\n"
     ]
    }
   ],
   "source": [
    "import numpy as np  #Importing Numpy module\n",
    "\n",
    "npArray = np.arange(2,51,3)\n",
    "print(npArray)"
   ]
  },
  {
   "cell_type": "markdown",
   "metadata": {},
   "source": [
    "### Question 2"
   ]
  },
  {
   "cell_type": "code",
   "execution_count": 2,
   "metadata": {},
   "outputs": [
    {
     "name": "stdout",
     "output_type": "stream",
     "text": [
      "10 20 30 40\n",
      "7 8 9 0\n",
      "[10 20 30 40  7  8  9  0]\n",
      "[ 0  7  8  9 10 20 30 40]\n"
     ]
    }
   ],
   "source": [
    "npArray1,npArray2 = (list(map(int,input().split())) for i in range(2))\n",
    "\n",
    "npArray1 = np.array(npArray1)\n",
    "npArray2 = np.array(npArray2)\n",
    "\n",
    "print(np.concatenate((npArray1,npArray2)))  #Concating 2 Arrays\n",
    "\n",
    "print(np.sort(np.concatenate((npArray1,npArray2))))  #Sorting the concated Array"
   ]
  },
  {
   "cell_type": "markdown",
   "metadata": {},
   "source": [
    "### Question 3"
   ]
  },
  {
   "cell_type": "code",
   "execution_count": 3,
   "metadata": {},
   "outputs": [
    {
     "name": "stdout",
     "output_type": "stream",
     "text": [
      "Shape is :- (3, 3)\n",
      "Size is :- 9\n"
     ]
    }
   ],
   "source": [
    "npArray = np.array([ [1,2,3] , [4,5,6] , [7,8,9] ])\n",
    "\n",
    "print('Shape is :- ' + str(npArray.shape))\n",
    "print('Size is :- ' + str(npArray.size))"
   ]
  },
  {
   "cell_type": "markdown",
   "metadata": {},
   "source": [
    "### Question 4"
   ]
  },
  {
   "cell_type": "markdown",
   "metadata": {},
   "source": [
    "In order to convert 1D array to 2D array, we make use of numpy.reshape()\n",
    "##### Syntax :- numpy.reshape(a, newshape)"
   ]
  },
  {
   "cell_type": "code",
   "execution_count": 4,
   "metadata": {},
   "outputs": [
    {
     "name": "stdout",
     "output_type": "stream",
     "text": [
      "[[1 2 3 4 5 6 7 8 9]] (1, 9)\n",
      "[[1 2 3]\n",
      " [4 5 6]\n",
      " [7 8 9]] (3, 3)\n",
      "\n",
      " USING NEWAXIS\n",
      "1\n",
      "2\n"
     ]
    }
   ],
   "source": [
    "npArray = np.array([ [1,2,3,4,5,6,7,8,9] ])\n",
    "print(npArray,npArray.shape) \n",
    "\n",
    "npArray = npArray.reshape(3,3) \n",
    "print(npArray,npArray.shape)\n",
    "\n",
    "print(\"\\n USING NEWAXIS\")\n",
    "arry=np.random.rand(5,)\n",
    "print(arry.ndim)\n",
    "newArr = arry[np.newaxis, :]\n",
    "print(newArr.ndim)"
   ]
  },
  {
   "cell_type": "markdown",
   "metadata": {},
   "source": [
    "### Question 5"
   ]
  },
  {
   "cell_type": "code",
   "execution_count": 5,
   "metadata": {},
   "outputs": [
    {
     "name": "stdout",
     "output_type": "stream",
     "text": [
      "[[1 1 1]\n",
      " [2 2 2]\n",
      " [3 3 3]\n",
      " [4 4 4]\n",
      " [5 5 5]\n",
      " [6 6 6]]\n",
      "\n",
      "[[1 1 1 4 4 4]\n",
      " [2 2 2 5 5 5]\n",
      " [3 3 3 6 6 6]]\n"
     ]
    }
   ],
   "source": [
    "npArray1 = np.array([ [1,1,1] , [2,2,2] , [3,3,3] ])\n",
    "npArray2 = np.array([ [4,4,4] , [5,5,5] , [6,6,6] ])\n",
    "\n",
    "print(np.vstack((npArray1,npArray2))) #row-wise sequence\n",
    "print() \n",
    "print(np.hstack((npArray1,npArray2))) #column-wise sequence"
   ]
  },
  {
   "cell_type": "markdown",
   "metadata": {},
   "source": [
    "### Question 6"
   ]
  },
  {
   "cell_type": "code",
   "execution_count": 6,
   "metadata": {},
   "outputs": [
    {
     "name": "stdout",
     "output_type": "stream",
     "text": [
      "(array([ 0,  1,  2,  3,  5,  6,  7,  8,  9, 52, 87]), array([2, 2, 3, 1, 1, 3, 1, 4, 2, 1, 1], dtype=int64))\n"
     ]
    }
   ],
   "source": [
    "npArray = np.array([1,5,6,9,8,2,6,8,52,6,7,8,0,2,0,8,9,3,2,87,1])\n",
    "print(np.unique(npArray,return_counts=True))"
   ]
  }
 ],
 "metadata": {
  "kernelspec": {
   "display_name": "Python 3",
   "language": "python",
   "name": "python3"
  },
  "language_info": {
   "codemirror_mode": {
    "name": "ipython",
    "version": 3
   },
   "file_extension": ".py",
   "mimetype": "text/x-python",
   "name": "python",
   "nbconvert_exporter": "python",
   "pygments_lexer": "ipython3",
   "version": "3.8.3"
  }
 },
 "nbformat": 4,
 "nbformat_minor": 4
}
